{
  "cells": [
    {
      "cell_type": "code",
      "execution_count": 1,
      "metadata": {
        "colab": {
          "base_uri": "https://localhost:8080/"
        },
        "id": "ue4iQ_cMJVmc",
        "outputId": "08ce34be-dfc8-4f54-9763-2978f47667e3"
      },
      "outputs": [
        {
          "name": "stdout",
          "output_type": "stream",
          "text": [
            "Requirement already satisfied: vedo in c:\\users\\judar\\anaconda3\\lib\\site-packages (2025.5.3)\n",
            "Requirement already satisfied: trimesh in c:\\users\\judar\\anaconda3\\lib\\site-packages (4.6.8)\n",
            "Requirement already satisfied: open3d in c:\\users\\judar\\anaconda3\\lib\\site-packages (0.19.0)\n",
            "Requirement already satisfied: pandas in c:\\users\\judar\\anaconda3\\lib\\site-packages (2.2.2)\n",
            "Requirement already satisfied: vtk in c:\\users\\judar\\anaconda3\\lib\\site-packages (from vedo) (9.4.2)\n",
            "Requirement already satisfied: numpy in c:\\users\\judar\\anaconda3\\lib\\site-packages (from vedo) (1.26.4)\n",
            "Requirement already satisfied: typing-extensions in c:\\users\\judar\\anaconda3\\lib\\site-packages (from vedo) (4.11.0)\n",
            "Requirement already satisfied: Pygments in c:\\users\\judar\\anaconda3\\lib\\site-packages (from vedo) (2.15.1)\n",
            "Requirement already satisfied: dash>=2.6.0 in c:\\users\\judar\\anaconda3\\lib\\site-packages (from open3d) (3.0.4)\n",
            "Requirement already satisfied: werkzeug>=3.0.0 in c:\\users\\judar\\anaconda3\\lib\\site-packages (from open3d) (3.0.3)\n",
            "Requirement already satisfied: flask>=3.0.0 in c:\\users\\judar\\anaconda3\\lib\\site-packages (from open3d) (3.0.3)\n",
            "Requirement already satisfied: nbformat>=5.7.0 in c:\\users\\judar\\anaconda3\\lib\\site-packages (from open3d) (5.10.4)\n",
            "Requirement already satisfied: configargparse in c:\\users\\judar\\anaconda3\\lib\\site-packages (from open3d) (1.7)\n",
            "Requirement already satisfied: ipywidgets>=8.0.4 in c:\\users\\judar\\anaconda3\\lib\\site-packages (from open3d) (8.1.7)\n",
            "Requirement already satisfied: python-dateutil>=2.8.2 in c:\\users\\judar\\anaconda3\\lib\\site-packages (from pandas) (2.9.0.post0)\n",
            "Requirement already satisfied: pytz>=2020.1 in c:\\users\\judar\\anaconda3\\lib\\site-packages (from pandas) (2024.1)\n",
            "Requirement already satisfied: tzdata>=2022.7 in c:\\users\\judar\\anaconda3\\lib\\site-packages (from pandas) (2023.3)\n",
            "Requirement already satisfied: plotly>=5.0.0 in c:\\users\\judar\\anaconda3\\lib\\site-packages (from dash>=2.6.0->open3d) (5.24.1)\n",
            "Requirement already satisfied: importlib-metadata in c:\\users\\judar\\anaconda3\\lib\\site-packages (from dash>=2.6.0->open3d) (7.0.1)\n",
            "Requirement already satisfied: requests in c:\\users\\judar\\anaconda3\\lib\\site-packages (from dash>=2.6.0->open3d) (2.32.3)\n",
            "Requirement already satisfied: retrying in c:\\users\\judar\\anaconda3\\lib\\site-packages (from dash>=2.6.0->open3d) (1.3.4)\n",
            "Requirement already satisfied: nest-asyncio in c:\\users\\judar\\anaconda3\\lib\\site-packages (from dash>=2.6.0->open3d) (1.6.0)\n",
            "Requirement already satisfied: setuptools in c:\\users\\judar\\anaconda3\\lib\\site-packages (from dash>=2.6.0->open3d) (75.1.0)\n",
            "Requirement already satisfied: Jinja2>=3.1.2 in c:\\users\\judar\\anaconda3\\lib\\site-packages (from flask>=3.0.0->open3d) (3.1.4)\n",
            "Requirement already satisfied: itsdangerous>=2.1.2 in c:\\users\\judar\\anaconda3\\lib\\site-packages (from flask>=3.0.0->open3d) (2.2.0)\n",
            "Requirement already satisfied: click>=8.1.3 in c:\\users\\judar\\anaconda3\\lib\\site-packages (from flask>=3.0.0->open3d) (8.1.7)\n",
            "Requirement already satisfied: blinker>=1.6.2 in c:\\users\\judar\\anaconda3\\lib\\site-packages (from flask>=3.0.0->open3d) (1.6.2)\n",
            "Requirement already satisfied: comm>=0.1.3 in c:\\users\\judar\\anaconda3\\lib\\site-packages (from ipywidgets>=8.0.4->open3d) (0.2.1)\n",
            "Requirement already satisfied: ipython>=6.1.0 in c:\\users\\judar\\anaconda3\\lib\\site-packages (from ipywidgets>=8.0.4->open3d) (8.27.0)\n",
            "Requirement already satisfied: traitlets>=4.3.1 in c:\\users\\judar\\anaconda3\\lib\\site-packages (from ipywidgets>=8.0.4->open3d) (5.14.3)\n",
            "Requirement already satisfied: widgetsnbextension~=4.0.14 in c:\\users\\judar\\anaconda3\\lib\\site-packages (from ipywidgets>=8.0.4->open3d) (4.0.14)\n",
            "Requirement already satisfied: jupyterlab_widgets~=3.0.15 in c:\\users\\judar\\anaconda3\\lib\\site-packages (from ipywidgets>=8.0.4->open3d) (3.0.15)\n",
            "Requirement already satisfied: fastjsonschema>=2.15 in c:\\users\\judar\\anaconda3\\lib\\site-packages (from nbformat>=5.7.0->open3d) (2.16.2)\n",
            "Requirement already satisfied: jsonschema>=2.6 in c:\\users\\judar\\anaconda3\\lib\\site-packages (from nbformat>=5.7.0->open3d) (4.23.0)\n",
            "Requirement already satisfied: jupyter-core!=5.0.*,>=4.12 in c:\\users\\judar\\anaconda3\\lib\\site-packages (from nbformat>=5.7.0->open3d) (5.7.2)\n",
            "Requirement already satisfied: six>=1.5 in c:\\users\\judar\\anaconda3\\lib\\site-packages (from python-dateutil>=2.8.2->pandas) (1.16.0)\n",
            "Requirement already satisfied: MarkupSafe>=2.1.1 in c:\\users\\judar\\anaconda3\\lib\\site-packages (from werkzeug>=3.0.0->open3d) (2.1.3)\n",
            "Requirement already satisfied: matplotlib>=2.0.0 in c:\\users\\judar\\anaconda3\\lib\\site-packages (from vtk->vedo) (3.9.2)\n",
            "Requirement already satisfied: colorama in c:\\users\\judar\\anaconda3\\lib\\site-packages (from click>=8.1.3->flask>=3.0.0->open3d) (0.4.6)\n",
            "Requirement already satisfied: decorator in c:\\users\\judar\\anaconda3\\lib\\site-packages (from ipython>=6.1.0->ipywidgets>=8.0.4->open3d) (5.1.1)\n",
            "Requirement already satisfied: jedi>=0.16 in c:\\users\\judar\\anaconda3\\lib\\site-packages (from ipython>=6.1.0->ipywidgets>=8.0.4->open3d) (0.19.1)\n",
            "Requirement already satisfied: matplotlib-inline in c:\\users\\judar\\anaconda3\\lib\\site-packages (from ipython>=6.1.0->ipywidgets>=8.0.4->open3d) (0.1.6)\n",
            "Requirement already satisfied: prompt-toolkit<3.1.0,>=3.0.41 in c:\\users\\judar\\anaconda3\\lib\\site-packages (from ipython>=6.1.0->ipywidgets>=8.0.4->open3d) (3.0.43)\n",
            "Requirement already satisfied: stack-data in c:\\users\\judar\\anaconda3\\lib\\site-packages (from ipython>=6.1.0->ipywidgets>=8.0.4->open3d) (0.2.0)\n",
            "Requirement already satisfied: attrs>=22.2.0 in c:\\users\\judar\\anaconda3\\lib\\site-packages (from jsonschema>=2.6->nbformat>=5.7.0->open3d) (23.1.0)\n",
            "Requirement already satisfied: jsonschema-specifications>=2023.03.6 in c:\\users\\judar\\anaconda3\\lib\\site-packages (from jsonschema>=2.6->nbformat>=5.7.0->open3d) (2023.7.1)\n",
            "Requirement already satisfied: referencing>=0.28.4 in c:\\users\\judar\\anaconda3\\lib\\site-packages (from jsonschema>=2.6->nbformat>=5.7.0->open3d) (0.30.2)\n",
            "Requirement already satisfied: rpds-py>=0.7.1 in c:\\users\\judar\\anaconda3\\lib\\site-packages (from jsonschema>=2.6->nbformat>=5.7.0->open3d) (0.10.6)\n",
            "Requirement already satisfied: platformdirs>=2.5 in c:\\users\\judar\\anaconda3\\lib\\site-packages (from jupyter-core!=5.0.*,>=4.12->nbformat>=5.7.0->open3d) (3.10.0)\n",
            "Requirement already satisfied: pywin32>=300 in c:\\users\\judar\\anaconda3\\lib\\site-packages (from jupyter-core!=5.0.*,>=4.12->nbformat>=5.7.0->open3d) (305.1)\n",
            "Requirement already satisfied: contourpy>=1.0.1 in c:\\users\\judar\\anaconda3\\lib\\site-packages (from matplotlib>=2.0.0->vtk->vedo) (1.2.0)\n",
            "Requirement already satisfied: cycler>=0.10 in c:\\users\\judar\\anaconda3\\lib\\site-packages (from matplotlib>=2.0.0->vtk->vedo) (0.11.0)\n",
            "Requirement already satisfied: fonttools>=4.22.0 in c:\\users\\judar\\anaconda3\\lib\\site-packages (from matplotlib>=2.0.0->vtk->vedo) (4.51.0)\n",
            "Requirement already satisfied: kiwisolver>=1.3.1 in c:\\users\\judar\\anaconda3\\lib\\site-packages (from matplotlib>=2.0.0->vtk->vedo) (1.4.4)\n",
            "Requirement already satisfied: packaging>=20.0 in c:\\users\\judar\\anaconda3\\lib\\site-packages (from matplotlib>=2.0.0->vtk->vedo) (24.1)\n",
            "Requirement already satisfied: pillow>=8 in c:\\users\\judar\\anaconda3\\lib\\site-packages (from matplotlib>=2.0.0->vtk->vedo) (10.4.0)\n",
            "Requirement already satisfied: pyparsing>=2.3.1 in c:\\users\\judar\\anaconda3\\lib\\site-packages (from matplotlib>=2.0.0->vtk->vedo) (3.1.2)\n",
            "Requirement already satisfied: tenacity>=6.2.0 in c:\\users\\judar\\anaconda3\\lib\\site-packages (from plotly>=5.0.0->dash>=2.6.0->open3d) (8.2.3)\n",
            "Requirement already satisfied: zipp>=0.5 in c:\\users\\judar\\anaconda3\\lib\\site-packages (from importlib-metadata->dash>=2.6.0->open3d) (3.17.0)\n",
            "Requirement already satisfied: charset-normalizer<4,>=2 in c:\\users\\judar\\anaconda3\\lib\\site-packages (from requests->dash>=2.6.0->open3d) (3.3.2)\n",
            "Requirement already satisfied: idna<4,>=2.5 in c:\\users\\judar\\anaconda3\\lib\\site-packages (from requests->dash>=2.6.0->open3d) (3.7)\n",
            "Requirement already satisfied: urllib3<3,>=1.21.1 in c:\\users\\judar\\anaconda3\\lib\\site-packages (from requests->dash>=2.6.0->open3d) (2.2.3)\n",
            "Requirement already satisfied: certifi>=2017.4.17 in c:\\users\\judar\\anaconda3\\lib\\site-packages (from requests->dash>=2.6.0->open3d) (2024.8.30)\n",
            "Requirement already satisfied: parso<0.9.0,>=0.8.3 in c:\\users\\judar\\anaconda3\\lib\\site-packages (from jedi>=0.16->ipython>=6.1.0->ipywidgets>=8.0.4->open3d) (0.8.3)\n",
            "Requirement already satisfied: wcwidth in c:\\users\\judar\\anaconda3\\lib\\site-packages (from prompt-toolkit<3.1.0,>=3.0.41->ipython>=6.1.0->ipywidgets>=8.0.4->open3d) (0.2.5)\n",
            "Requirement already satisfied: executing in c:\\users\\judar\\anaconda3\\lib\\site-packages (from stack-data->ipython>=6.1.0->ipywidgets>=8.0.4->open3d) (0.8.3)\n",
            "Requirement already satisfied: asttokens in c:\\users\\judar\\anaconda3\\lib\\site-packages (from stack-data->ipython>=6.1.0->ipywidgets>=8.0.4->open3d) (2.0.5)\n",
            "Requirement already satisfied: pure-eval in c:\\users\\judar\\anaconda3\\lib\\site-packages (from stack-data->ipython>=6.1.0->ipywidgets>=8.0.4->open3d) (0.2.2)\n"
          ]
        }
      ],
      "source": [
        "#Se instalan todas las dependencias necesarias para el proyecto (vedo, trimesh, open3d, pandas)\n",
        "!pip install vedo trimesh open3d pandas"
      ]
    },
    {
      "cell_type": "code",
      "execution_count": 2,
      "metadata": {
        "colab": {
          "base_uri": "https://localhost:8080/",
          "height": 123
        },
        "id": "FqpgauzWF7TJ",
        "outputId": "fd2b70c1-fcb0-4dd1-8436-36a097b7325b"
      },
      "outputs": [
        {
          "name": "stdout",
          "output_type": "stream",
          "text": [
            "Jupyter environment detected. Enabling Open3D WebVisualizer.\n",
            "[Open3D INFO] WebRTC GUI backend enabled.\n",
            "[Open3D INFO] WebRTCWindowSystem: HTTP handshake server disabled.\n"
          ]
        },
        {
          "name": "stderr",
          "output_type": "stream",
          "text": [
            "C:\\Users\\judar\\AppData\\Local\\Temp\\ipykernel_30504\\3575893412.py:77: DeprecationWarning: Starting with ImageIO v3 the behavior of this function will switch to that of iio.v3.imread. To keep the current behavior (and make this warning disappear) use `import imageio.v2 as imageio` or call `imageio.v2.imread` directly.\n",
            "  image = imageio.imread(filename)\n"
          ]
        },
        {
          "name": "stdout",
          "output_type": "stream",
          "text": [
            "GIF exportado como animacion.gif\n",
            "Exportado con vedo a .stl\n"
          ]
        }
      ],
      "source": [
        "import vedo\n",
        "import trimesh\n",
        "import open3d as o3d\n",
        "import pandas as pd\n",
        "import numpy as np\n",
        "import os\n",
        "import imageio\n",
        "\n",
        "#Función load_points: Permite cargar los puntos a partir de un archivo verificando que sea csv o json\n",
        "#También pone una lista de puntos por defecto en caso de que no se específique la ruta del archivo a cargar\n",
        "def load_points(file_path=None):\n",
        "    if file_path:\n",
        "        if file_path.endswith('.csv'):\n",
        "            df = pd.read_csv(file_path)\n",
        "        elif file_path.endswith('.json'):\n",
        "            df = pd.read_json(file_path)\n",
        "        else:\n",
        "            raise ValueError(\"Archivo no soportado\")\n",
        "        return df[['x', 'y', 'z']].values\n",
        "    else:\n",
        "        return np.array([[0,0,0], [1,2,1], [2,0,3], [3,3,0], [4,2,2]])\n",
        "\n",
        "#Se llama la función load_points, aquí podemos pasar la ruta del archivo a cargar\n",
        "points = load_points()  \n",
        "\n",
        "#Función create__objects_from_points: Con ayuda de la librería vedo toma los puntos y crea objetos\n",
        "''' 1. Los objetos en el índice 0 y en índices 3i con i>=0 serán cubos.\n",
        "    2. Los objetos en la posición 1 y en índices 3i+1 con i>=0 serán esferas.\n",
        "    3. Los objetos en la posición 2, y en índices 3i+2 con i>=1 serán cilindros.\n",
        "'''\n",
        "def create_objects_from_points(points):\n",
        "    objects = []\n",
        "    for i, (x, y, z) in enumerate(points):\n",
        "        if i % 3 == 0:\n",
        "            obj = vedo.Cube(pos=(x, y, z), side=0.5 + i * 0.1, c='red')\n",
        "        elif i % 3 == 1:\n",
        "            obj = vedo.Sphere(pos=(x, y, z), r=0.3 + 0.05*i, c='blue')\n",
        "        else:\n",
        "            obj = vedo.Cylinder(pos=(x, y, z), r=0.2 + 0.05*i, height=0.6 + 0.2*i, c='green')\n",
        "        objects.append(obj)\n",
        "    return objects\n",
        "#Los objetos generados según las funciones de vedo y los puntos se retornan en una lista\n",
        "\n",
        "#La lista retornada al llamar la función anterior, se guardan en la variable shapes\n",
        "shapes = create_objects_from_points(points)\n",
        "\n",
        "#Con el método show de vedo se pueden poner las figuras en la escena de acuerdo a ciertos parámetros\n",
        "vedo.show(shapes, axes=1, viewup=\"z\", bg='white')\n",
        "\n",
        "#En este bloque se van a realizar transformaciones, y se van a exportar frames para formar un gif\n",
        "'''Las transformaciones que se hacen son principalmente la aplicación de escala y el cambio de color,\n",
        "además se usa una variable t, que está sujeta a la cantidad de frames para que se aplique una\n",
        "transformación por cada frame realizado'''\n",
        "n_frames = 20\n",
        "plotter = vedo.Plotter(offscreen=True, bg='white')\n",
        "frame_dir = \"frames\"\n",
        "os.makedirs(frame_dir, exist_ok=True)\n",
        "filenames = []\n",
        "\n",
        "for t in range(n_frames):\n",
        "    for i, obj in enumerate(shapes):\n",
        "        scale = 1 + 0.2 * np.sin(t * 0.3 + i)\n",
        "        obj.scale([scale]*3)\n",
        "        obj.color(['red', 'blue', 'green'][i % 3])\n",
        "    \n",
        "    plotter.clear()\n",
        "    plotter.show(shapes, resetcam=(t == 0), interactive=False)\n",
        "    \n",
        "    frame_path = os.path.join(frame_dir, f\"frame_{t:03d}.png\")\n",
        "    plotter.screenshot(frame_path)\n",
        "    filenames.append(frame_path)\n",
        "\n",
        "#Se toman los frames realizados anteriormente para crear y exportar el gif\n",
        "gif_path = \"animacion.gif\"\n",
        "with imageio.get_writer(gif_path, mode='I', duration=0.1, loop=0) as writer:\n",
        "    for filename in filenames:\n",
        "        image = imageio.imread(filename)\n",
        "        writer.append_data(image)\n",
        "\n",
        "print(f\"GIF exportado como {gif_path}\")\n",
        "\n",
        "#Finalmente, utilizando el método write de vedo, podemos por cada figura exportar un archivo stl \n",
        "def export_objects_vedo(shapes, folder=\"exported\", fmt=\"obj\"):\n",
        "    os.makedirs(folder, exist_ok=True)\n",
        "    for i, shape in enumerate(shapes):\n",
        "        path = os.path.join(folder, f\"shape_{i}.{fmt}\")\n",
        "        vedo.write(shape, path)\n",
        "    print(f\"Exportado con vedo a .{fmt}\")\n",
        "\n",
        "export_objects_vedo(shapes, fmt=\"stl\")"
      ]
    }
  ],
  "metadata": {
    "colab": {
      "provenance": []
    },
    "kernelspec": {
      "display_name": "base",
      "language": "python",
      "name": "python3"
    },
    "language_info": {
      "codemirror_mode": {
        "name": "ipython",
        "version": 3
      },
      "file_extension": ".py",
      "mimetype": "text/x-python",
      "name": "python",
      "nbconvert_exporter": "python",
      "pygments_lexer": "ipython3",
      "version": "3.12.7"
    }
  },
  "nbformat": 4,
  "nbformat_minor": 0
}
