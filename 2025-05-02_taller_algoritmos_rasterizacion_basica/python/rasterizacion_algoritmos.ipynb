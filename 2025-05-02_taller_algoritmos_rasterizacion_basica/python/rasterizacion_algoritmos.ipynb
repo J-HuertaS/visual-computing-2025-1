{
 "cells": [
  {
   "cell_type": "markdown",
   "metadata": {
    "id": "c30i3MQ_ij-X"
   },
   "source": [
    "# 🧪 Workshop - Rasterization from Zero: Drawing with Classical Algorithms"
   ]
  },
  {
   "cell_type": "markdown",
   "metadata": {
    "id": "L-K49i9TiqUM"
   },
   "source": [
    "## 🔧 Step-by-step activities"
   ]
  },
  {
   "cell_type": "markdown",
   "metadata": {
    "id": "iMtDXe_qire0"
   },
   "source": [
    "#### ✅ 1. Prepare the drawing environment"
   ]
  },
  {
   "cell_type": "code",
   "execution_count": 1,
   "metadata": {
    "id": "GKChLnf1id8t"
   },
   "outputs": [],
   "source": [
    "from PIL import Image, ImageDraw\n",
    "import matplotlib.pyplot as plt\n",
    "\n",
    "width, height = 200, 200\n",
    "image = Image.new('RGB', (width, height), 'white')\n",
    "pixels = image.load()"
   ]
  },
  {
   "cell_type": "markdown",
   "metadata": {
    "id": "KLUh4pEDivLx"
   },
   "source": [
    "#### ✅ 2. Drawing a line with the Bresenham algorithm"
   ]
  },
  {
   "cell_type": "markdown",
   "id": "7ef1b463",
   "metadata": {},
   "source": [
    "### 🟦 Bresenham algorithm\n",
    "This algorithm allows to draw a straight line between two points using only integer operations. Very efficient for graphics on pixel displays."
   ]
  },
  {
   "cell_type": "code",
   "execution_count": 2,
   "metadata": {
    "id": "pjpBvWGujq-r"
   },
   "outputs": [],
   "source": [
    "# Bresenham’s Line Drawing Algorithm\n",
    "# Draws a straight line using only integer operations for efficiency\n",
    "# Parameters: starting point (x0, y0), ending point (x1, y1)\n",
    "def bresenham(x0, y0, x1, y1):\n",
    "    dx = abs(x1 - x0)\n",
    "    dy = abs(y1 - y0)\n",
    "    sx = 1 if x0 < x1 else -1\n",
    "    sy = 1 if y0 < y1 else -1\n",
    "    err = dx - dy\n",
    "\n",
    "    while True:\n",
    "        pixels[x0, y0] = (255, 0, 0)\n",
    "        if x0 == x1 and y0 == y1:\n",
    "            break\n",
    "        e2 = 2 * err\n",
    "        if e2 > -dy:\n",
    "            err -= dy\n",
    "            x0 += sx\n",
    "        if e2 < dx:\n",
    "            err += dx\n",
    "            y0 += sy"
   ]
  },
  {
   "cell_type": "markdown",
   "metadata": {
    "id": "WC_PKeT7js2w"
   },
   "source": [
    "##### Test ☝"
   ]
  },
  {
   "cell_type": "code",
   "execution_count": 3,
   "metadata": {
    "colab": {
     "base_uri": "https://localhost:8080/",
     "height": 429
    },
    "id": "6xJv0dJLjx9R",
    "outputId": "a74b46b3-b1ec-4957-ea8b-6ebfffa5271e"
   },
   "outputs": [
    {
     "data": {
      "image/png": "[encoded data removed]",
      "text/plain": [
       "<Figure size 640x480 with 1 Axes>"
      ]
     },
     "metadata": {},
     "output_type": "display_data"
    }
   ],
   "source": [
    "bresenham(20, 20, 180, 120)\n",
    "# Display the image\n",
    "plt.imshow(image)\n",
    "plt.title(\"Line with the Bresenham algorithm\")\n",
    "plt.axis('off')\n",
    "plt.show()"
   ]
  },
  {
   "cell_type": "markdown",
   "metadata": {
    "id": "_HMAJt-DlD_o"
   },
   "source": [
    "##### We clean the image for the following algorithms"
   ]
  },
  {
   "cell_type": "code",
   "execution_count": 4,
   "metadata": {
    "id": "hYzxGJi5lJcO"
   },
   "outputs": [],
   "source": [
    "image = Image.new('RGB', (width, height), 'white')\n",
    "pixels = image.load()"
   ]
  },
  {
   "cell_type": "markdown",
   "metadata": {
    "id": "DPrG73F_kuQ1"
   },
   "source": [
    "#### ✅ 3. Draw a circle with the midpoint algorithm."
   ]
  },
  {
   "cell_type": "markdown",
   "id": "06e56ec1",
   "metadata": {},
   "source": [
    "### 🟣 Midpoint algorithm\n",
    "\n",
    "Optimized algorithm that takes advantage of the symmetry of a circle to draw it only by calculating 1/8 of its points."
   ]
  },
  {
   "cell_type": "code",
   "execution_count": 5,
   "metadata": {
    "id": "Q2HYOE11kvWX"
   },
   "outputs": [],
   "source": [
    "# Midpoint Circle Algorithm\n",
    "# Efficiently plots a circle by exploiting 8-way symmetry\n",
    "# Parameters: center of circle (x0, y0), radius\n",
    "def midpoint_circle(x0, y0, radius):\n",
    "    x = radius\n",
    "    y = 0\n",
    "    p = 1 - radius\n",
    "\n",
    "    while x >= y:\n",
    "        for dx, dy in [(x, y), (y, x), (-x, y), (-y, x), (-x, -y), (-y, -x), (x, -y), (y, -x)]:\n",
    "            if 0 <= x0 + dx < width and 0 <= y0 + dy < height:\n",
    "                pixels[x0 + dx, y0 + dy] = (0, 0, 255)\n",
    "        y += 1\n",
    "        if p <= 0:\n",
    "            p = p + 2*y + 1\n",
    "        else:\n",
    "            x -= 1\n",
    "            p = p + 2*y - 2*x + 1"
   ]
  },
  {
   "cell_type": "markdown",
   "metadata": {
    "id": "wDyPvgCJkxgx"
   },
   "source": [
    "##### Test ☝"
   ]
  },
  {
   "cell_type": "code",
   "execution_count": 6,
   "metadata": {
    "colab": {
     "base_uri": "https://localhost:8080/",
     "height": 429
    },
    "id": "2sRWkwlNkzKp",
    "outputId": "1e7d687c-cf04-4395-9e7a-121ad1c8b79f"
   },
   "outputs": [
    {
     "data": {
      "image/png": "[encoded data removed]",
      "text/plain": [
       "<Figure size 640x480 with 1 Axes>"
      ]
     },
     "metadata": {},
     "output_type": "display_data"
    }
   ],
   "source": [
    "midpoint_circle(100, 100, 40)\n",
    "# Mostrar la imagen\n",
    "plt.imshow(image)\n",
    "plt.title(\"Circle with the midpoint algorithm\")\n",
    "plt.axis('off')\n",
    "plt.show()"
   ]
  },
  {
   "cell_type": "markdown",
   "metadata": {
    "id": "pVIsBgionIyR"
   },
   "source": [
    "##### We clean the image for the following algorithms"
   ]
  },
  {
   "cell_type": "code",
   "execution_count": 7,
   "metadata": {
    "id": "7dGVaf9LnLjC"
   },
   "outputs": [],
   "source": [
    "image = Image.new('RGB', (width, height), 'white')\n",
    "pixels = image.load()"
   ]
  },
  {
   "cell_type": "markdown",
   "metadata": {
    "id": "t_WRAEHlnHLI"
   },
   "source": [
    "#### ✅ 4. Filling a triangle (simple rasterization by scanline)"
   ]
  },
  {
   "cell_type": "markdown",
   "id": "4d69ed2a",
   "metadata": {},
   "source": [
    "### 🟩 Rasterization by Scanline (Triangle)\n",
    "It allows to fill a triangle by scanning line by line (scanlines) and calculating intersections with its edges."
   ]
  },
  {
   "cell_type": "code",
   "execution_count": 8,
   "metadata": {
    "id": "AygfRxpPnIfQ"
   },
   "outputs": [],
   "source": [
    "# Scanline Triangle Rasterization\n",
    "# Fills a triangle by interpolating edges and coloring horizontal spans\n",
    "# Parameters: three triangle vertices p1, p2, p3\n",
    "def fill_triangle(p1, p2, p3):\n",
    "    # sort by y\n",
    "    pts = sorted([p1, p2, p3], key=lambda p: p[1])\n",
    "    (x1, y1), (x2, y2), (x3, y3) = pts\n",
    "\n",
    "    def interpolate(y0, y1, x0, x1):\n",
    "        if y1 - y0 == 0: return []\n",
    "        return [int(x0 + (x1 - x0) * (y - y0) / (y1 - y0)) for y in range(y0, y1)]\n",
    "\n",
    "    x12 = interpolate(y1, y2, x1, x2)\n",
    "    x23 = interpolate(y2, y3, x2, x3)\n",
    "    x13 = interpolate(y1, y3, x1, x3)\n",
    "\n",
    "    x_left = x12 + x23\n",
    "    for y, xl, xr in zip(range(y1, y3), x13, x_left):\n",
    "        for x in range(min(xl, xr), max(xl, xr)):\n",
    "            if 0 <= x < width and 0 <= y < height:\n",
    "                pixels[x, y] = (0, 255, 0)"
   ]
  },
  {
   "cell_type": "markdown",
   "metadata": {
    "id": "dkwnuvd3nPUq"
   },
   "source": [
    "##### Test ☝"
   ]
  },
  {
   "cell_type": "code",
   "execution_count": 9,
   "metadata": {
    "colab": {
     "base_uri": "https://localhost:8080/",
     "height": 429
    },
    "id": "53hPAx7lnRQr",
    "outputId": "7deadd6a-f6cb-4e39-987c-74716cace92f"
   },
   "outputs": [
    {
     "data": {
      "image/png": "[encoded data removed]",
      "text/plain": [
       "<Figure size 640x480 with 1 Axes>"
      ]
     },
     "metadata": {},
     "output_type": "display_data"
    }
   ],
   "source": [
    "fill_triangle((30, 50), (100, 150), (160, 60))\n",
    "# Display the image\n",
    "plt.imshow(image)\n",
    "plt.title(\"Filled triangle\")\n",
    "plt.axis('off')\n",
    "plt.show()"
   ]
  },
  {
   "cell_type": "markdown",
   "metadata": {
    "id": "fSfN0l9knT7k"
   },
   "source": [
    "##### We clean the image for the following algorithms"
   ]
  },
  {
   "cell_type": "code",
   "execution_count": 10,
   "metadata": {
    "id": "FLAO5mHfnfZK"
   },
   "outputs": [],
   "source": [
    "image = Image.new('RGB', (width, height), 'white')\n",
    "pixels = image.load()"
   ]
  },
  {
   "cell_type": "markdown",
   "metadata": {
    "id": "NenUEInFnj5C"
   },
   "source": [
    "#### ✅ 5. Show the result (applying all methods on the same image)\n"
   ]
  },
  {
   "cell_type": "code",
   "execution_count": 11,
   "metadata": {
    "colab": {
     "base_uri": "https://localhost:8080/",
     "height": 406
    },
    "id": "M_eR_q_bnsoo",
    "outputId": "f5b6b328-b54a-43a4-ffdf-bb8ae2c5ad5e"
   },
   "outputs": [
    {
     "data": {
      "image/png": "[encoded data removed]",
      "text/plain": [
       "<Figure size 640x480 with 1 Axes>"
      ]
     },
     "metadata": {},
     "output_type": "display_data"
    }
   ],
   "source": [
    "# Call all drawing functions on the same image canvas\n",
    "# 1. Draw a red line using Bresenham\n",
    "# 2. Draw a blue circle using the midpoint method\n",
    "# 3. Fill a green triangle using scanline rasterization\n",
    "bresenham(20, 20, 180, 120)\n",
    "midpoint_circle(100, 100, 40)\n",
    "fill_triangle((30, 50), (100, 150), (160, 60))\n",
    "# Display the image\n",
    "plt.imshow(image)\n",
    "plt.title(\"Final results\")\n",
    "plt.axis('off')\n",
    "plt.show()"
   ]
  }
 ],
 "metadata": {
  "colab": {
   "provenance": []
  },
  "kernelspec": {
   "display_name": "Python 3",
   "language": "python",
   "name": "python3"
  },
  "language_info": {
   "codemirror_mode": {
    "name": "ipython",
    "version": 3
   },
   "file_extension": ".py",
   "mimetype": "text/x-python",
   "name": "python",
   "nbconvert_exporter": "python",
   "pygments_lexer": "ipython3",
   "version": "3.10.5"
  }
 },
 "nbformat": 4,
 "nbformat_minor": 0
}
