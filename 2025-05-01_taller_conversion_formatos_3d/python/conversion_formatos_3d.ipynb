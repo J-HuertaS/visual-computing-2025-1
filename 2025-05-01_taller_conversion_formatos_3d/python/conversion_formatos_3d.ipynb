{
 "cells": [
  {
   "cell_type": "markdown",
   "metadata": {
    "id": "UiwOXJ5dcxGT"
   },
   "source": [
    "# 🧪 Importando el Mundo: Visualización y Conversión de Formatos 3D\n",
    "\n",
    "\n",
    "**Computación visual**"
   ]
  },
  {
   "cell_type": "markdown",
   "metadata": {},
   "source": [
    "## 1. Preparar el entorno"
   ]
  },
  {
   "cell_type": "code",
   "execution_count": 1,
   "metadata": {
    "colab": {
     "base_uri": "https://localhost:8080/"
    },
    "executionInfo": {
     "elapsed": 42432,
     "status": "ok",
     "timestamp": 1746126387674,
     "user": {
      "displayName": "Gabriela Gallegos Rubio",
      "userId": "02329410378172157340"
     },
     "user_tz": 300
    },
    "id": "tQwhS_pqjsiQ",
    "outputId": "5e3804d7-d057-4bf9-8442-c398258f33b5"
   },
   "outputs": [
    {
     "name": "stdout",
     "output_type": "stream",
     "text": [
      "Requirement already satisfied: trimesh in c:\\users\\huertas\\appdata\\local\\programs\\python\\python310\\lib\\site-packages (4.6.8)\n",
      "Requirement already satisfied: open3d in c:\\users\\huertas\\appdata\\local\\programs\\python\\python310\\lib\\site-packages (0.19.0)\n",
      "Requirement already satisfied: numpy in c:\\users\\huertas\\appdata\\local\\programs\\python\\python310\\lib\\site-packages (2.1.3)\n",
      "Requirement already satisfied: dash>=2.6.0 in c:\\users\\huertas\\appdata\\local\\programs\\python\\python310\\lib\\site-packages (from open3d) (3.0.4)\n",
      "Requirement already satisfied: werkzeug>=3.0.0 in c:\\users\\huertas\\appdata\\local\\programs\\python\\python310\\lib\\site-packages (from open3d) (3.0.6)\n",
      "Requirement already satisfied: flask>=3.0.0 in c:\\users\\huertas\\appdata\\local\\programs\\python\\python310\\lib\\site-packages (from open3d) (3.0.3)\n",
      "Requirement already satisfied: nbformat>=5.7.0 in c:\\users\\huertas\\appdata\\local\\programs\\python\\python310\\lib\\site-packages (from open3d) (5.10.4)\n",
      "Requirement already satisfied: configargparse in c:\\users\\huertas\\appdata\\local\\programs\\python\\python310\\lib\\site-packages (from open3d) (1.7)\n",
      "Requirement already satisfied: ipywidgets>=8.0.4 in c:\\users\\huertas\\appdata\\local\\programs\\python\\python310\\lib\\site-packages (from open3d) (8.1.5)\n",
      "Requirement already satisfied: plotly>=5.0.0 in c:\\users\\huertas\\appdata\\local\\programs\\python\\python310\\lib\\site-packages (from dash>=2.6.0->open3d) (5.24.1)\n",
      "Requirement already satisfied: importlib-metadata in c:\\users\\huertas\\appdata\\local\\programs\\python\\python310\\lib\\site-packages (from dash>=2.6.0->open3d) (8.7.0)\n",
      "Requirement already satisfied: typing-extensions>=4.1.1 in c:\\users\\huertas\\appdata\\local\\programs\\python\\python310\\lib\\site-packages (from dash>=2.6.0->open3d) (4.13.2)\n",
      "Requirement already satisfied: requests in c:\\users\\huertas\\appdata\\local\\programs\\python\\python310\\lib\\site-packages (from dash>=2.6.0->open3d) (2.32.3)\n",
      "Requirement already satisfied: retrying in c:\\users\\huertas\\appdata\\local\\programs\\python\\python310\\lib\\site-packages (from dash>=2.6.0->open3d) (1.3.4)\n",
      "Requirement already satisfied: nest-asyncio in c:\\users\\huertas\\appdata\\roaming\\python\\python310\\site-packages (from dash>=2.6.0->open3d) (1.6.0)\n",
      "Requirement already satisfied: setuptools in c:\\users\\huertas\\appdata\\local\\programs\\python\\python310\\lib\\site-packages (from dash>=2.6.0->open3d) (75.3.0)\n",
      "Requirement already satisfied: Jinja2>=3.1.2 in c:\\users\\huertas\\appdata\\local\\programs\\python\\python310\\lib\\site-packages (from flask>=3.0.0->open3d) (3.1.4)\n",
      "Requirement already satisfied: itsdangerous>=2.1.2 in c:\\users\\huertas\\appdata\\local\\programs\\python\\python310\\lib\\site-packages (from flask>=3.0.0->open3d) (2.2.0)\n",
      "Requirement already satisfied: click>=8.1.3 in c:\\users\\huertas\\appdata\\local\\programs\\python\\python310\\lib\\site-packages (from flask>=3.0.0->open3d) (8.1.8)\n",
      "Requirement already satisfied: blinker>=1.6.2 in c:\\users\\huertas\\appdata\\local\\programs\\python\\python310\\lib\\site-packages (from flask>=3.0.0->open3d) (1.9.0)\n",
      "Requirement already satisfied: MarkupSafe>=2.1.1 in c:\\users\\huertas\\appdata\\local\\programs\\python\\python310\\lib\\site-packages (from werkzeug>=3.0.0->open3d) (3.0.2)\n",
      "Requirement already satisfied: colorama in c:\\users\\huertas\\appdata\\local\\programs\\python\\python310\\lib\\site-packages (from click>=8.1.3->flask>=3.0.0->open3d) (0.4.6)\n",
      "Requirement already satisfied: comm>=0.1.3 in c:\\users\\huertas\\appdata\\roaming\\python\\python310\\site-packages (from ipywidgets>=8.0.4->open3d) (0.2.2)\n",
      "Requirement already satisfied: ipython>=6.1.0 in c:\\users\\huertas\\appdata\\roaming\\python\\python310\\site-packages (from ipywidgets>=8.0.4->open3d) (8.30.0)\n",
      "Requirement already satisfied: traitlets>=4.3.1 in c:\\users\\huertas\\appdata\\roaming\\python\\python310\\site-packages (from ipywidgets>=8.0.4->open3d) (5.14.3)\n",
      "Requirement already satisfied: widgetsnbextension~=4.0.12 in c:\\users\\huertas\\appdata\\local\\programs\\python\\python310\\lib\\site-packages (from ipywidgets>=8.0.4->open3d) (4.0.13)\n",
      "Requirement already satisfied: jupyterlab-widgets~=3.0.12 in c:\\users\\huertas\\appdata\\local\\programs\\python\\python310\\lib\\site-packages (from ipywidgets>=8.0.4->open3d) (3.0.13)\n",
      "Requirement already satisfied: decorator in c:\\users\\huertas\\appdata\\roaming\\python\\python310\\site-packages (from ipython>=6.1.0->ipywidgets>=8.0.4->open3d) (5.1.1)\n",
      "Requirement already satisfied: exceptiongroup in c:\\users\\huertas\\appdata\\roaming\\python\\python310\\site-packages (from ipython>=6.1.0->ipywidgets>=8.0.4->open3d) (1.2.2)\n",
      "Requirement already satisfied: jedi>=0.16 in c:\\users\\huertas\\appdata\\roaming\\python\\python310\\site-packages (from ipython>=6.1.0->ipywidgets>=8.0.4->open3d) (0.19.2)\n",
      "Requirement already satisfied: matplotlib-inline in c:\\users\\huertas\\appdata\\roaming\\python\\python310\\site-packages (from ipython>=6.1.0->ipywidgets>=8.0.4->open3d) (0.1.7)\n",
      "Requirement already satisfied: prompt_toolkit<3.1.0,>=3.0.41 in c:\\users\\huertas\\appdata\\roaming\\python\\python310\\site-packages (from ipython>=6.1.0->ipywidgets>=8.0.4->open3d) (3.0.48)\n",
      "Requirement already satisfied: pygments>=2.4.0 in c:\\users\\huertas\\appdata\\roaming\\python\\python310\\site-packages (from ipython>=6.1.0->ipywidgets>=8.0.4->open3d) (2.18.0)\n",
      "Requirement already satisfied: stack_data in c:\\users\\huertas\\appdata\\roaming\\python\\python310\\site-packages (from ipython>=6.1.0->ipywidgets>=8.0.4->open3d) (0.6.3)\n",
      "Requirement already satisfied: wcwidth in c:\\users\\huertas\\appdata\\roaming\\python\\python310\\site-packages (from prompt_toolkit<3.1.0,>=3.0.41->ipython>=6.1.0->ipywidgets>=8.0.4->open3d) (0.2.13)\n",
      "Requirement already satisfied: parso<0.9.0,>=0.8.4 in c:\\users\\huertas\\appdata\\roaming\\python\\python310\\site-packages (from jedi>=0.16->ipython>=6.1.0->ipywidgets>=8.0.4->open3d) (0.8.4)\n",
      "Requirement already satisfied: fastjsonschema>=2.15 in c:\\users\\huertas\\appdata\\local\\programs\\python\\python310\\lib\\site-packages (from nbformat>=5.7.0->open3d) (2.21.1)\n",
      "Requirement already satisfied: jsonschema>=2.6 in c:\\users\\huertas\\appdata\\local\\programs\\python\\python310\\lib\\site-packages (from nbformat>=5.7.0->open3d) (4.23.0)\n",
      "Requirement already satisfied: jupyter-core!=5.0.*,>=4.12 in c:\\users\\huertas\\appdata\\roaming\\python\\python310\\site-packages (from nbformat>=5.7.0->open3d) (5.7.2)\n",
      "Requirement already satisfied: attrs>=22.2.0 in c:\\users\\huertas\\appdata\\local\\programs\\python\\python310\\lib\\site-packages (from jsonschema>=2.6->nbformat>=5.7.0->open3d) (25.3.0)\n",
      "Requirement already satisfied: jsonschema-specifications>=2023.03.6 in c:\\users\\huertas\\appdata\\local\\programs\\python\\python310\\lib\\site-packages (from jsonschema>=2.6->nbformat>=5.7.0->open3d) (2025.4.1)\n",
      "Requirement already satisfied: referencing>=0.28.4 in c:\\users\\huertas\\appdata\\local\\programs\\python\\python310\\lib\\site-packages (from jsonschema>=2.6->nbformat>=5.7.0->open3d) (0.36.2)\n",
      "Requirement already satisfied: rpds-py>=0.7.1 in c:\\users\\huertas\\appdata\\local\\programs\\python\\python310\\lib\\site-packages (from jsonschema>=2.6->nbformat>=5.7.0->open3d) (0.24.0)\n",
      "Requirement already satisfied: platformdirs>=2.5 in c:\\users\\huertas\\appdata\\roaming\\python\\python310\\site-packages (from jupyter-core!=5.0.*,>=4.12->nbformat>=5.7.0->open3d) (4.3.6)\n",
      "Requirement already satisfied: pywin32>=300 in c:\\users\\huertas\\appdata\\roaming\\python\\python310\\site-packages (from jupyter-core!=5.0.*,>=4.12->nbformat>=5.7.0->open3d) (308)\n",
      "Requirement already satisfied: tenacity>=6.2.0 in c:\\users\\huertas\\appdata\\local\\programs\\python\\python310\\lib\\site-packages (from plotly>=5.0.0->dash>=2.6.0->open3d) (9.0.0)\n",
      "Requirement already satisfied: packaging in c:\\users\\huertas\\appdata\\roaming\\python\\python310\\site-packages (from plotly>=5.0.0->dash>=2.6.0->open3d) (24.2)\n",
      "Requirement already satisfied: zipp>=3.20 in c:\\users\\huertas\\appdata\\local\\programs\\python\\python310\\lib\\site-packages (from importlib-metadata->dash>=2.6.0->open3d) (3.21.0)\n",
      "Requirement already satisfied: charset-normalizer<4,>=2 in c:\\users\\huertas\\appdata\\local\\programs\\python\\python310\\lib\\site-packages (from requests->dash>=2.6.0->open3d) (3.4.0)\n",
      "Requirement already satisfied: idna<4,>=2.5 in c:\\users\\huertas\\appdata\\local\\programs\\python\\python310\\lib\\site-packages (from requests->dash>=2.6.0->open3d) (3.10)\n",
      "Requirement already satisfied: urllib3<3,>=1.21.1 in c:\\users\\huertas\\appdata\\local\\programs\\python\\python310\\lib\\site-packages (from requests->dash>=2.6.0->open3d) (1.26.20)\n",
      "Requirement already satisfied: certifi>=2017.4.17 in c:\\users\\huertas\\appdata\\local\\programs\\python\\python310\\lib\\site-packages (from requests->dash>=2.6.0->open3d) (2024.8.30)\n",
      "Requirement already satisfied: six>=1.7.0 in c:\\users\\huertas\\appdata\\local\\programs\\python\\python310\\lib\\site-packages (from retrying->dash>=2.6.0->open3d) (1.16.0)\n",
      "Requirement already satisfied: executing>=1.2.0 in c:\\users\\huertas\\appdata\\roaming\\python\\python310\\site-packages (from stack_data->ipython>=6.1.0->ipywidgets>=8.0.4->open3d) (2.1.0)\n",
      "Requirement already satisfied: asttokens>=2.1.0 in c:\\users\\huertas\\appdata\\roaming\\python\\python310\\site-packages (from stack_data->ipython>=6.1.0->ipywidgets>=8.0.4->open3d) (3.0.0)\n",
      "Requirement already satisfied: pure-eval in c:\\users\\huertas\\appdata\\roaming\\python\\python310\\site-packages (from stack_data->ipython>=6.1.0->ipywidgets>=8.0.4->open3d) (0.2.3)\n"
     ]
    }
   ],
   "source": [
    "!pip install trimesh open3d numpy"
   ]
  },
  {
   "cell_type": "code",
   "execution_count": 2,
   "metadata": {
    "executionInfo": {
     "elapsed": 9,
     "status": "ok",
     "timestamp": 1746130328380,
     "user": {
      "displayName": "Gabriela Gallegos Rubio",
      "userId": "02329410378172157340"
     },
     "user_tz": 300
    },
    "id": "qMJFQFhVjyFd"
   },
   "outputs": [
    {
     "name": "stdout",
     "output_type": "stream",
     "text": [
      "Jupyter environment detected. Enabling Open3D WebVisualizer.\n",
      "[Open3D INFO] WebRTC GUI backend enabled.\n",
      "[Open3D INFO] WebRTCWindowSystem: HTTP handshake server disabled.\n"
     ]
    }
   ],
   "source": [
    "import trimesh\n",
    "import open3d as o3d\n",
    "import numpy as np\n",
    "import os\n",
    "import shutil"
   ]
  },
  {
   "cell_type": "markdown",
   "metadata": {},
   "source": [
    "## Cargar y analizar los modelos"
   ]
  },
  {
   "cell_type": "code",
   "execution_count": 3,
   "metadata": {
    "colab": {
     "base_uri": "https://localhost:8080/"
    },
    "executionInfo": {
     "elapsed": 2080,
     "status": "ok",
     "timestamp": 1746130335226,
     "user": {
      "displayName": "Gabriela Gallegos Rubio",
      "userId": "02329410378172157340"
     },
     "user_tz": 300
    },
    "id": "7oRP-ZMtxjDp",
    "outputId": "b34592fb-a6fc-4d47-bece-23eecb14218f"
   },
   "outputs": [
    {
     "name": "stdout",
     "output_type": "stream",
     "text": [
      "\n",
      "Modelo: OBJ\n",
      "Número de vértices: 42682\n",
      "Número de caras: 80016\n",
      "Número de normales: 42682\n",
      "Vértices duplicados: 2620\n",
      "\n",
      "Modelo: STL\n",
      "Número de vértices: 40062\n",
      "Número de caras: 80016\n",
      "Número de normales: 40062\n",
      "Vértices duplicados: 0\n",
      "\n",
      "Modelo: GLTF\n",
      "Número de vértices: 42682\n",
      "Número de caras: 80016\n",
      "Número de normales: 42682\n",
      "Vértices duplicados: 2620\n"
     ]
    }
   ],
   "source": [
    "base_model_path = \"12140_Skull_v3_L2.obj\"\n",
    "output_dir = \"converted_models\"\n",
    "os.makedirs(output_dir, exist_ok=True)\n",
    "\n",
    "model_files = {\n",
    "    \"OBJ\": base_model_path,\n",
    "    \"STL\": os.path.join(output_dir, \"skull.stl\"),\n",
    "    \"GLTF\": os.path.join(output_dir, \"skull.glb\")\n",
    "}\n",
    "\n",
    "\n",
    "models = {} # Diccionario para almacenar los modelos cargados\n",
    "\n",
    "# Cargar y analizar modelos\n",
    "for format_name, file_path in model_files.items():\n",
    "    try:\n",
    "        # Cargar el modelo con trimesh\n",
    "        model = trimesh.load(file_path, force='mesh')\n",
    "        models[format_name] = model\n",
    "\n",
    "        # Analizar propiedades\n",
    "        vertices = model.vertices\n",
    "        faces = model.faces\n",
    "        normals = model.vertex_normals if hasattr(model, 'vertex_normals') else []\n",
    "        num_vertices = len(vertices)\n",
    "        num_faces = len(faces)\n",
    "        num_normals = len(normals)\n",
    "\n",
    "        # Detectar vértices duplicados\n",
    "        unique_vertices, counts = np.unique(vertices, axis=0, return_counts=True)\n",
    "        num_duplicates = len(vertices) - len(unique_vertices)\n",
    "\n",
    "        # Imprimir resultados\n",
    "        print(f\"\\nModelo: {format_name}\")\n",
    "        print(f\"Número de vértices: {num_vertices}\")\n",
    "        print(f\"Número de caras: {num_faces}\")\n",
    "        print(f\"Número de normales: {num_normals}\")\n",
    "        print(f\"Vértices duplicados: {num_duplicates}\")\n",
    "\n",
    "    except Exception as e:\n",
    "        print(f\"Error al cargar {format_name}: {e}\")\n"
   ]
  },
  {
   "cell_type": "markdown",
   "metadata": {},
   "source": [
    "## Bonus: Automatizar comparación"
   ]
  },
  {
   "cell_type": "code",
   "execution_count": 4,
   "metadata": {},
   "outputs": [
    {
     "name": "stdout",
     "output_type": "stream",
     "text": [
      "\n",
      "Comparación de Modelos:\n",
      "Formato | Vértices | Caras | Vértices Únicos | Duplicados\n",
      "--------------------------------------------------\n",
      "OBJ     |    42682 | 80016 |         40062 |       2620\n",
      "STL     |    40062 | 80016 |         40062 |          0\n",
      "GLTF    |    42682 | 80016 |         40062 |       2620\n"
     ]
    }
   ],
   "source": [
    "# Bonus: Automatizar comparación\n",
    "def compare_models(model_dict):\n",
    "    comparison = {}\n",
    "    for format_name, model in model_dict.items():\n",
    "        vertices = model.vertices\n",
    "        faces = model.faces\n",
    "        unique_vertices = len(np.unique(vertices, axis=0))\n",
    "        comparison[format_name] = {\n",
    "            \"vertices\": len(vertices),\n",
    "            \"faces\": len(faces),\n",
    "            \"unique_vertices\": unique_vertices,\n",
    "            \"duplicates\": len(vertices) - unique_vertices\n",
    "        }\n",
    "\n",
    "    # Imprimir comparación\n",
    "    print(\"\\nComparación de Modelos:\")\n",
    "    print(\"Formato | Vértices | Caras | Vértices Únicos | Duplicados\")\n",
    "    print(\"-\" * 50)\n",
    "    for format_name, stats in comparison.items():\n",
    "        print(f\"{format_name:7} | {stats['vertices']:8} | {stats['faces']:5} | {stats['unique_vertices']:13} | {stats['duplicates']:10}\")\n",
    "\n",
    "# Ejecutar comparación\n",
    "compare_models(models)"
   ]
  },
  {
   "cell_type": "code",
   "execution_count": 5,
   "metadata": {
    "colab": {
     "base_uri": "https://localhost:8080/"
    },
    "executionInfo": {
     "elapsed": 402,
     "status": "ok",
     "timestamp": 1746126399998,
     "user": {
      "displayName": "Gabriela Gallegos Rubio",
      "userId": "02329410378172157340"
     },
     "user_tz": 300
    },
    "id": "KV6Axiwxz3S9",
    "outputId": "ed9ec6c1-f68d-4ad6-841b-9ff3083f9fdd"
   },
   "outputs": [
    {
     "name": "stdout",
     "output_type": "stream",
     "text": [
      "[Open3D WARNING] [ViewControl] SetViewPoint() failed because window height and width are not set.\n"
     ]
    }
   ],
   "source": [
    "for format_name, model in models.items():\n",
    "    vertices = np.asarray(model.vertices)\n",
    "    triangles = np.asarray(model.faces)\n",
    "    mesh = o3d.geometry.TriangleMesh()\n",
    "    mesh.vertices = o3d.utility.Vector3dVector(vertices)\n",
    "    mesh.triangles = o3d.utility.Vector3iVector(triangles)\n",
    "    mesh.compute_vertex_normals()\n",
    "    o3d.visualization.draw_geometries([mesh], window_name=f\"Modelo {format_name}\")"
   ]
  }
 ],
 "metadata": {
  "colab": {
   "authorship_tag": "ABX9TyMdk+H2Kr/UMMkBYIzDmGzm",
   "provenance": []
  },
  "kernelspec": {
   "display_name": "Python 3",
   "name": "python3"
  },
  "language_info": {
   "codemirror_mode": {
    "name": "ipython",
    "version": 3
   },
   "file_extension": ".py",
   "mimetype": "text/x-python",
   "name": "python",
   "nbconvert_exporter": "python",
   "pygments_lexer": "ipython3",
   "version": "3.10.5"
  }
 },
 "nbformat": 4,
 "nbformat_minor": 0
}
